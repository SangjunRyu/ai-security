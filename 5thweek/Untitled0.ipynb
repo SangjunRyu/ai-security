{
  "nbformat": 4,
  "nbformat_minor": 0,
  "metadata": {
    "colab": {
      "name": "Untitled0.ipynb",
      "provenance": [],
      "collapsed_sections": [],
      "include_colab_link": true
    },
    "kernelspec": {
      "name": "python3",
      "display_name": "Python 3"
    }
  },
  "cells": [
    {
      "cell_type": "markdown",
      "metadata": {
        "id": "view-in-github",
        "colab_type": "text"
      },
      "source": [
        "<a href=\"https://colab.research.google.com/github/SangjunRyu/ai-security/blob/master/5thweek/Untitled0.ipynb\" target=\"_parent\"><img src=\"https://colab.research.google.com/assets/colab-badge.svg\" alt=\"Open In Colab\"/></a>"
      ]
    },
    {
      "cell_type": "code",
      "metadata": {
        "id": "gBmtmQz4fBP0",
        "colab_type": "code",
        "colab": {
          "base_uri": "https://localhost:8080/",
          "height": 34
        },
        "outputId": "6995b137-76f6-4232-95e3-4827b05c8613"
      },
      "source": [
        "a=100\n",
        "print(a)"
      ],
      "execution_count": 2,
      "outputs": [
        {
          "output_type": "stream",
          "text": [
            "100\n"
          ],
          "name": "stdout"
        }
      ]
    },
    {
      "cell_type": "code",
      "metadata": {
        "id": "Uj3G2CCcfVli",
        "colab_type": "code",
        "colab": {
          "base_uri": "https://localhost:8080/",
          "height": 34
        },
        "outputId": "4358e0ac-e658-489c-f2e7-b547fc757a19"
      },
      "source": [
        "b = \"this is string type\"\n",
        "print(b)"
      ],
      "execution_count": 4,
      "outputs": [
        {
          "output_type": "stream",
          "text": [
            "this is string type\n"
          ],
          "name": "stdout"
        }
      ]
    },
    {
      "cell_type": "code",
      "metadata": {
        "id": "YiW7vTB0fgql",
        "colab_type": "code",
        "colab": {
          "base_uri": "https://localhost:8080/",
          "height": 34
        },
        "outputId": "b45d21d1-6d99-407d-899a-ccede4ccbbb2"
      },
      "source": [
        "b=\"a\"\n",
        "print(b)"
      ],
      "execution_count": 5,
      "outputs": [
        {
          "output_type": "stream",
          "text": [
            "a\n"
          ],
          "name": "stdout"
        }
      ]
    },
    {
      "cell_type": "code",
      "metadata": {
        "id": "5xYzGHiYgTEz",
        "colab_type": "code",
        "colab": {
          "base_uri": "https://localhost:8080/",
          "height": 34
        },
        "outputId": "f8c43afb-d333-474e-9fbf-bf2e1853c987"
      },
      "source": [
        "\n",
        "sum = 0\n",
        "for i in range(10):\n",
        "    sum += i\n",
        "print(sum)"
      ],
      "execution_count": 9,
      "outputs": [
        {
          "output_type": "stream",
          "text": [
            "45\n"
          ],
          "name": "stdout"
        }
      ]
    },
    {
      "cell_type": "code",
      "metadata": {
        "id": "TRBLsggJkJPN",
        "colab_type": "code",
        "colab": {
          "base_uri": "https://localhost:8080/",
          "height": 70
        },
        "outputId": "5526bccc-f06f-4b5f-8068-808d4641af58"
      },
      "source": [
        "def HowtoGo(money):\n",
        "  if money > 5000:\n",
        "     print(\"택시타\")\n",
        "  elif money > 1250:\n",
        "     print(\"대중교통\")\n",
        "  else:\n",
        "     print(\"걸어가\")\n",
        " \n",
        "HowtoGo(1000)\n",
        "HowtoGo(2500)\n",
        "HowtoGo(10000)"
      ],
      "execution_count": 12,
      "outputs": [
        {
          "output_type": "stream",
          "text": [
            "걸어가\n",
            "대중교통\n",
            "택시타\n"
          ],
          "name": "stdout"
        }
      ]
    },
    {
      "cell_type": "code",
      "metadata": {
        "id": "GqZCqwnckwz5",
        "colab_type": "code",
        "colab": {}
      },
      "source": [
        "import torch"
      ],
      "execution_count": 0,
      "outputs": []
    },
    {
      "cell_type": "code",
      "metadata": {
        "id": "ngBXV0uEljzu",
        "colab_type": "code",
        "colab": {
          "base_uri": "https://localhost:8080/",
          "height": 105
        },
        "outputId": "72b52ea8-18f5-4e02-d156-66f56a58f0ed"
      },
      "source": [
        "x = torch.empty(5,3)\n",
        "print(x)"
      ],
      "execution_count": 14,
      "outputs": [
        {
          "output_type": "stream",
          "text": [
            "tensor([[2.9871e-36, 0.0000e+00, 3.3631e-44],\n",
            "        [0.0000e+00,        nan, 1.4775e-19],\n",
            "        [1.1578e+27, 1.1362e+30, 7.1547e+22],\n",
            "        [4.5828e+30, 1.2121e+04, 7.1846e+22],\n",
            "        [9.2198e-39, 7.0374e+22, 7.7781e+31]])\n"
          ],
          "name": "stdout"
        }
      ]
    },
    {
      "cell_type": "code",
      "metadata": {
        "id": "_qhrg-gomMVu",
        "colab_type": "code",
        "colab": {
          "base_uri": "https://localhost:8080/",
          "height": 105
        },
        "outputId": "3bc7840a-9700-464b-ba5e-df281cb5fa67"
      },
      "source": [
        "x = torch.rand(5,3)\n",
        "print(x)"
      ],
      "execution_count": 15,
      "outputs": [
        {
          "output_type": "stream",
          "text": [
            "tensor([[0.5747, 0.3028, 0.8911],\n",
            "        [0.8941, 0.7379, 0.7067],\n",
            "        [0.5975, 0.7969, 0.7785],\n",
            "        [0.8342, 0.6947, 0.9114],\n",
            "        [0.5358, 0.3298, 0.1152]])\n"
          ],
          "name": "stdout"
        }
      ]
    },
    {
      "cell_type": "code",
      "metadata": {
        "id": "aSonbXKkmfSJ",
        "colab_type": "code",
        "colab": {
          "base_uri": "https://localhost:8080/",
          "height": 193
        },
        "outputId": "aa042157-1bd0-4064-b073-b57c3f7f491a"
      },
      "source": [
        "y= torch.rand(5,3)\n",
        "print(y)\n",
        "print(torch.add(x,y))"
      ],
      "execution_count": 17,
      "outputs": [
        {
          "output_type": "stream",
          "text": [
            "tensor([[0.6486, 0.7394, 0.2906],\n",
            "        [0.2418, 0.5582, 0.4929],\n",
            "        [0.7850, 0.4550, 0.8553],\n",
            "        [0.9190, 0.1500, 0.4009],\n",
            "        [0.4622, 0.9104, 0.6719]])\n",
            "tensor([[1.2233, 1.0422, 1.1816],\n",
            "        [1.1358, 1.2961, 1.1996],\n",
            "        [1.3825, 1.2519, 1.6338],\n",
            "        [1.7532, 0.8446, 1.3124],\n",
            "        [0.9980, 1.2402, 0.7871]])\n"
          ],
          "name": "stdout"
        }
      ]
    }
  ]
}